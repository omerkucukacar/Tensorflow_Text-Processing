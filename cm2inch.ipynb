{
  "nbformat": 4,
  "nbformat_minor": 0,
  "metadata": {
    "colab": {
      "name": "cm2inch.ipynb",
      "provenance": [],
      "collapsed_sections": [],
      "toc_visible": true,
      "include_colab_link": true
    },
    "kernelspec": {
      "display_name": "Python 3",
      "name": "python3"
    }
  },
  "cells": [
    {
      "cell_type": "markdown",
      "metadata": {
        "id": "view-in-github",
        "colab_type": "text"
      },
      "source": [
        "<a href=\"https://colab.research.google.com/github/omerkucukacar/tensorflow/blob/master/cm2inch.ipynb\" target=\"_parent\"><img src=\"https://colab.research.google.com/assets/colab-badge.svg\" alt=\"Open In Colab\"/></a>"
      ]
    },
    {
      "cell_type": "code",
      "metadata": {
        "colab_type": "code",
        "id": "FeM-v7n4DCLq",
        "outputId": "3d4c933d-eb53-4412-82de-7f00df038aa7",
        "colab": {
          "base_uri": "https://localhost:8080/",
          "height": 102
        }
      },
      "source": [
        "\n",
        "# Santimetreyi İnç birimine dönüştürmek için Python programı\n",
        "# Giriş alıyor\n",
        "print (\"♻ Cm'yi İnç'e Dönüştürme ♻\")\n",
        "print (\"✔ 1 inches => 2,54 cm'dir.\")\n",
        "\n",
        "num = float (input(\"✔ Santimetre Olarak Ölçülen Mesafeyi Giriniz ve Enter Tuşuna Basınız => \"))\n",
        "\n",
        "\n",
        "# Cm'den inç'e dönüştürme\n",
        "\"\"\" 1 inch = 2.55 centimeters\"\"\"\n",
        "inc = num/2.50\n",
        "\n",
        "\n",
        "# Sonucu yazdırma\n",
        "print(\"✔ İnç Olarak Tahmini Mesafe Karşılığı => \", inc)\n",
        "\n",
        "\n",
        "# Cm'den inç'e dönüştürme\n",
        "\"\"\" 1 inch = 2.54 centimeters\"\"\"\n",
        "inc = num/2.54\n",
        "\n",
        "# Sonucu yazdırma\n",
        "print(\"✔ İnç Olarak Kesin (%💯) Mesafe Karşılığı => \", inc)\n"
      ],
      "execution_count": 60,
      "outputs": [
        {
          "output_type": "stream",
          "text": [
            "♻ Cm'yi İnç'e Dönüştürme ♻\n",
            "✔ 1 inches => 2,54 cm'dir.\n",
            "✔ Santimetre Olarak Ölçülen Mesafeyi Giriniz ve Enter Tuşuna Basınız => 355\n",
            "✔ İnç Olarak Tahmini Mesafe Karşılığı =>  142.0\n",
            "✔ İnç Olarak Kesin (%💯) Mesafe Karşılığı =>  139.76377952755905\n"
          ],
          "name": "stdout"
        }
      ]
    }
  ]
}