{
  "nbformat": 4,
  "nbformat_minor": 0,
  "metadata": {
    "colab": {
      "name": "cm2inch.ipynb",
      "provenance": [],
      "collapsed_sections": [],
      "toc_visible": true,
      "include_colab_link": true
    },
    "kernelspec": {
      "display_name": "Python 3",
      "name": "python3"
    }
  },
  "cells": [
    {
      "cell_type": "markdown",
      "metadata": {
        "id": "view-in-github",
        "colab_type": "text"
      },
      "source": [
        "<a href=\"https://colab.research.google.com/github/omerkucukacar/tensorflow/blob/master/cm2inch.ipynb\" target=\"_parent\"><img src=\"https://colab.research.google.com/assets/colab-badge.svg\" alt=\"Open In Colab\"/></a>"
      ]
    },
    {
      "cell_type": "code",
      "metadata": {
        "colab_type": "code",
        "id": "FeM-v7n4DCLq",
        "outputId": "b6edab2f-d6d1-4a28-bb14-47eac4713968",
        "colab": {
          "base_uri": "https://localhost:8080/",
          "height": 367
        }
      },
      "source": [
        "# Santimetreyi İnç birimine dönüştürmek için Python programı\n",
        "# Giriş alıyor\n",
        "print (\"♻ Cm'yi İnç'e Dönüştürme ♻\")\n",
        "print (\"✔ 1 inches => 2,54 cm'dir.\")\n",
        "\n",
        "num = float (input(\"✔ Santimetre Olarak Ölçülen Mesafeyi Giriniz ve Enter Tuşuna Basınız => \"))\n",
        "\n",
        "\n",
        "# Cm'den inç'e dönüştürme\n",
        "\"\"\" 1 inch = 2.55 centimeters\"\"\"\n",
        "inc = num/2.50\n",
        "\n",
        "\n",
        "# Sonucu yazdırma\n",
        "print(\"✔ İnç Olarak Tahmini Mesafe Karşılığı => \", inc)\n",
        "\n",
        "\n",
        "# Cm'den inç'e dönüştürme\n",
        "\"\"\" 1 inch = 2.54 centimeters\"\"\"\n",
        "inc = num/2.54\n",
        "\n",
        "# Sonucu yazdırma\n",
        "print(\"✔ İnç Olarak Kesin (%💯) Mesafe Karşılığı => \", inc)\n",
        "print(\"Modelin eğitimi tamamlandı\")\n",
        "\n",
        "import numpy as np\n",
        "\n",
        "# evenly sampled time at 200ms intervals\n",
        "t = np.arange(0., 5., 0.2)\n",
        "\n",
        "# red dashes, blue squares and green triangles\n",
        "plt.plot(t, t, 'r--', t, t**2, 'bs', t, t**3, 'g^')\n",
        "plt.show()\n",
        "\n",
        "\n"
      ],
      "execution_count": 30,
      "outputs": [
        {
          "output_type": "stream",
          "text": [
            "♻ Cm'yi İnç'e Dönüştürme ♻\n",
            "✔ 1 inches => 2,54 cm'dir.\n",
            "✔ Santimetre Olarak Ölçülen Mesafeyi Giriniz ve Enter Tuşuna Basınız => 300\n",
            "✔ İnç Olarak Tahmini Mesafe Karşılığı =>  120.0\n",
            "✔ İnç Olarak Kesin (%💯) Mesafe Karşılığı =>  118.11023622047244\n",
            "Modelin eğitimi tamamlandı\n"
          ],
          "name": "stdout"
        },
        {
          "output_type": "display_data",
          "data": {
            "image/png": "[encoded data removed]",
            "text/plain": [
              "<Figure size 432x288 with 1 Axes>"
            ]
          },
          "metadata": {
            "tags": []
          }
        }
      ]
    }
  ]
}